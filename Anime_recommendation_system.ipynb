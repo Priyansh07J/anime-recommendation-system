{
  "nbformat": 4,
  "nbformat_minor": 0,
  "metadata": {
    "colab": {
      "provenance": [],
      "mount_file_id": "1lD0w-WSaVc7f-Mkd7S59MtyjSgd3zCEf",
      "authorship_tag": "ABX9TyPhmM/JZs4TAoxdq0s/u5gy",
      "include_colab_link": true
    },
    "kernelspec": {
      "name": "python3",
      "display_name": "Python 3"
    },
    "language_info": {
      "name": "python"
    }
  },
  "cells": [
    {
      "cell_type": "markdown",
      "metadata": {
        "id": "view-in-github",
        "colab_type": "text"
      },
      "source": [
        "<a href=\"https://colab.research.google.com/github/Priyansh07J/anime-recommendation-system/blob/main/Anime_recommendation_system.ipynb\" target=\"_parent\"><img src=\"https://colab.research.google.com/assets/colab-badge.svg\" alt=\"Open In Colab\"/></a>"
      ]
    },
    {
      "cell_type": "code",
      "execution_count": null,
      "metadata": {
        "colab": {
          "base_uri": "https://localhost:8080/"
        },
        "id": "gRF0So3UiIJ6",
        "outputId": "72835a8e-2e63-4f6a-ee9c-a7a3abd384f8"
      },
      "outputs": [
        {
          "output_type": "stream",
          "name": "stdout",
          "text": [
            "                                        Name  Score\n",
            "0                                  One Piece   8.69\n",
            "1                            Hunter x Hunter   8.41\n",
            "2  Hunter x Hunter: Original Video Animation   8.31\n",
            "3              Hunter x Hunter: Greed Island   8.18\n",
            "4        Hunter x Hunter: Greed Island Final   8.25\n",
            "5                               Juuni Kokuki   8.02\n",
            "6                                 D.Gray-man   8.02\n",
            "7                         Naruto: Shippuuden   8.26\n",
            "8                         Seirei no Moribito   8.14\n"
          ]
        }
      ],
      "source": [
        "import pandas as pd\n",
        "from sklearn.feature_extraction.text import TfidfVectorizer\n",
        "from sklearn.metrics.pairwise import cosine_similarity\n",
        "\n",
        "\n",
        "df = pd.read_csv('/content/drive/MyDrive/anime.csv')\n",
        "\n",
        "\n",
        "df = df[['Name', 'Genres', 'Score']].dropna()\n",
        "df = df.reset_index(drop=True)\n",
        "\n",
        "\n",
        "df['Score'] = pd.to_numeric(df['Score'], errors='coerce')\n",
        "\n",
        "\n",
        "tfidf = TfidfVectorizer(stop_words='english')\n",
        "tfidf_matrix = tfidf.fit_transform(df['Genres'])\n",
        "\n",
        "\n",
        "cosine_sim = cosine_similarity(tfidf_matrix, tfidf_matrix)\n",
        "\n",
        "\n",
        "indices = pd.Series(df.index, index=df['Name']).drop_duplicates()\n",
        "\n",
        "def recommend(anime_name, min_score=7.0, num_recommendations=5):\n",
        "    idx = indices.get(anime_name)\n",
        "    if idx is None:\n",
        "        return f\"'{anime_name}' not found in dataset.\"\n",
        "\n",
        "    sim_scores = list(enumerate(cosine_sim[idx]))\n",
        "    sim_scores = sorted(sim_scores, key=lambda x: x[1], reverse=True)\n",
        "\n",
        "    filtered = [\n",
        "        i for i in sim_scores\n",
        "        if i[0] != idx and df.loc[i[0], 'Score'] >= min_score\n",
        "    ]\n",
        "\n",
        "    top_indices = [i[0] for i in filtered[:num_recommendations]]\n",
        "\n",
        "    return df[['Name', 'Score']].iloc[top_indices].reset_index(drop=True)\n",
        "print(recommend(\"Naruto\", min_score=8.0, num_recommendations=9))\n",
        "\n",
        "\n",
        "\n"
      ]
    },
    {
      "cell_type": "code",
      "source": [
        "!pip install gradio --quiet\n"
      ],
      "metadata": {
        "id": "EowlMiGFp765"
      },
      "execution_count": null,
      "outputs": []
    },
    {
      "cell_type": "code",
      "source": [
        "import pandas as pd\n",
        "from sklearn.feature_extraction.text import TfidfVectorizer\n",
        "from sklearn.metrics.pairwise import cosine_similarity\n",
        "\n",
        "\n",
        "df = pd.read_csv('/content/drive/MyDrive/anime.csv')\n",
        "\n",
        "\n",
        "df = df[['Name', 'Genres', 'Score']].dropna()\n",
        "df = df.reset_index(drop=True)\n",
        "\n",
        "\n",
        "df['Score'] = pd.to_numeric(df['Score'], errors='coerce')\n",
        "\n",
        "\n",
        "tfidf = TfidfVectorizer(stop_words='english')\n",
        "tfidf_matrix = tfidf.fit_transform(df['Genres'])\n",
        "\n",
        "\n",
        "cosine_sim = cosine_similarity(tfidf_matrix, tfidf_matrix)\n",
        "\n",
        "\n",
        "indices = pd.Series(df.index, index=df['Name']).drop_duplicates()\n",
        "\n",
        "def recommend(anime_name, min_score=7.0, num_recommendations=5):\n",
        "    idx = indices.get(anime_name)\n",
        "    if idx is None:\n",
        "        return f\"'{anime_name}' not found in dataset.\"\n",
        "\n",
        "    sim_scores = list(enumerate(cosine_sim[idx]))\n",
        "    sim_scores = sorted(sim_scores, key=lambda x: x[1], reverse=True)\n",
        "\n",
        "    filtered = [\n",
        "        i for i in sim_scores\n",
        "        if i[0] != idx and df.loc[i[0], 'Score'] >= min_score\n",
        "    ]\n",
        "\n",
        "    top_indices = [i[0] for i in filtered[:num_recommendations]]\n",
        "\n",
        "    return df[['Name', 'Score']].iloc[top_indices].reset_index(drop=True)\n",
        "print(recommend(\"Naruto\", min_score=8.0, num_recommendations=9))\n",
        "\n",
        "\n"
      ],
      "metadata": {
        "id": "GJF-wWaoqF0f"
      },
      "execution_count": null,
      "outputs": []
    },
    {
      "cell_type": "code",
      "source": [
        "import gradio as gr\n",
        "\n",
        "anime_list = df['Name'].sort_values().unique().tolist()\n",
        "iface = gr.Interface(\n",
        "    fn=recommend,\n",
        "    inputs=[\n",
        "        gr.Dropdown(anime_list, label=\"Select an Anime\"),\n",
        "        gr.Slider(0.0, 10.0, value=7.0, step=0.1, label=\"Minimum Score\"),\n",
        "        gr.Number(value=5, label=\"Number of Recommendations\")\n",
        "    ],\n",
        "    outputs=gr.Textbox(lines=10, label=\"Recommended Anime\"),\n",
        "    title=\"Anime Recommendation System\",\n",
        "    description=\"Select an anime to get similar titles based on genre and score filter.\"\n",
        ")\n",
        "\n",
        "iface.launch()\n"
      ],
      "metadata": {
        "colab": {
          "base_uri": "https://localhost:8080/",
          "height": 645
        },
        "id": "qX2UBw2SqSa3",
        "outputId": "49fa4453-b70e-458d-e517-7f7f9118e613"
      },
      "execution_count": null,
      "outputs": [
        {
          "output_type": "stream",
          "name": "stdout",
          "text": [
            "It looks like you are running Gradio on a hosted a Jupyter notebook. For the Gradio app to work, sharing must be enabled. Automatically setting `share=True` (you can turn this off by setting `share=False` in `launch()` explicitly).\n",
            "\n",
            "Colab notebook detected. To show errors in colab notebook, set debug=True in launch()\n",
            "* Running on public URL: https://466f433f0831a322d7.gradio.live\n",
            "\n",
            "This share link expires in 1 week. For free permanent hosting and GPU upgrades, run `gradio deploy` from the terminal in the working directory to deploy to Hugging Face Spaces (https://huggingface.co/spaces)\n"
          ]
        },
        {
          "output_type": "display_data",
          "data": {
            "text/plain": [
              "<IPython.core.display.HTML object>"
            ],
            "text/html": [
              "<div><iframe src=\"https://466f433f0831a322d7.gradio.live\" width=\"100%\" height=\"500\" allow=\"autoplay; camera; microphone; clipboard-read; clipboard-write;\" frameborder=\"0\" allowfullscreen></iframe></div>"
            ]
          },
          "metadata": {}
        },
        {
          "output_type": "execute_result",
          "data": {
            "text/plain": []
          },
          "metadata": {},
          "execution_count": 4
        }
      ]
    }
  ]
}